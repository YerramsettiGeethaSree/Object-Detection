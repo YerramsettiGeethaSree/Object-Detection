{
 "cells": [
  {
   "cell_type": "code",
   "execution_count": 2,
   "id": "81ba5162-8cbd-4af9-8550-ed880ad0f709",
   "metadata": {},
   "outputs": [],
   "source": [
    "import cv2\n",
    "import numpy as np\n",
    "import matplotlib.pyplot as plt"
   ]
  },
  {
   "cell_type": "code",
   "execution_count": 3,
   "id": "a1baa5a3-705e-45fe-b76b-26906a418852",
   "metadata": {},
   "outputs": [],
   "source": [
    "# Load YOLO\n",
    "yolo = cv2.dnn.readNet(\"C:/projects/Object Detection/yolov3-tiny.weights\", \"C:/projects/Object Detection/yolov3-tiny.cfg\")"
   ]
  },
  {
   "cell_type": "code",
   "execution_count": 4,
   "id": "63e5b5a9-9238-458b-9ff5-59e0f1f7ad60",
   "metadata": {},
   "outputs": [],
   "source": [
    "# Load class names\n",
    "classes = []\n",
    "with open(\"C:/projects/Object Detection/coco.names\", 'r') as f:\n",
    "    classes = f.read().splitlines()"
   ]
  },
  {
   "cell_type": "code",
   "execution_count": 5,
   "id": "7d84d96c-399c-4b3b-88ff-e2ee16592907",
   "metadata": {},
   "outputs": [],
   "source": [
    "# Initialize webcam\n",
    "cap = cv2.VideoCapture(0)"
   ]
  },
  {
   "cell_type": "code",
   "execution_count": 6,
   "id": "12f2d645-b11d-4d64-8bcc-6dc6f91d0a50",
   "metadata": {},
   "outputs": [
    {
     "ename": "KeyboardInterrupt",
     "evalue": "",
     "output_type": "error",
     "traceback": [
      "\u001b[1;31m---------------------------------------------------------------------------\u001b[0m",
      "\u001b[1;31mKeyboardInterrupt\u001b[0m                         Traceback (most recent call last)",
      "Cell \u001b[1;32mIn[6], line 2\u001b[0m\n\u001b[0;32m      1\u001b[0m \u001b[38;5;28;01mwhile\u001b[39;00m \u001b[38;5;28;01mTrue\u001b[39;00m:\n\u001b[1;32m----> 2\u001b[0m     ret, frame \u001b[38;5;241m=\u001b[39m \u001b[43mcap\u001b[49m\u001b[38;5;241;43m.\u001b[39;49m\u001b[43mread\u001b[49m\u001b[43m(\u001b[49m\u001b[43m)\u001b[49m\n\u001b[0;32m      3\u001b[0m     height, width, channels \u001b[38;5;241m=\u001b[39m frame\u001b[38;5;241m.\u001b[39mshape\n\u001b[0;32m      5\u001b[0m     \u001b[38;5;66;03m# Preprocess the image\u001b[39;00m\n",
      "\u001b[1;31mKeyboardInterrupt\u001b[0m: "
     ]
    }
   ],
   "source": [
    "while True:\n",
    "    ret, frame = cap.read()\n",
    "    height, width, channels = frame.shape\n",
    "    \n",
    "    # Preprocess the image\n",
    "    blob = cv2.dnn.blobFromImage(frame, 1/255, (320, 320), (0, 0, 0), swapRB=True, crop=False)\n",
    "    yolo.setInput(blob)\n",
    "    output_layer_names = yolo.getUnconnectedOutLayersNames()\n",
    "    layer_outputs = yolo.forward(output_layer_names)\n",
    "    \n",
    "    # Initialization\n",
    "    boxes = []\n",
    "    confidences = []\n",
    "    class_ids = []\n",
    "    \n",
    "    # Extract bounding boxes and confidences\n",
    "    for output in layer_outputs:\n",
    "        for detection in output:\n",
    "            scores = detection[5:]\n",
    "            class_id = np.argmax(scores)\n",
    "            confidence = scores[class_id]\n",
    "            if confidence > 0.7:\n",
    "                center_x = int(detection[0] * width)\n",
    "                center_y = int(detection[1] * height)\n",
    "                w = int(detection[2] * width)\n",
    "                h = int(detection[3] * height)\n",
    "                x = int(center_x - w / 2)\n",
    "                y = int(center_y - h / 2)\n",
    "                \n",
    "                boxes.append([x, y, w, h])\n",
    "                confidences.append(float(confidence))\n",
    "                class_ids.append(class_id)\n",
    "    \n",
    "    indexes = cv2.dnn.NMSBoxes(boxes, confidences, 0.5, 0.4)\n",
    "    \n",
    "    font = cv2.FONT_HERSHEY_PLAIN\n",
    "    colors = np.random.uniform(0, 255, size=(len(boxes), 3))\n",
    "    \n",
    "    if isinstance(indexes, tuple):\n",
    "        indexes = np.array(indexes)  # Convert tuple to numpy array if necessary\n",
    "\n",
    "    for i in indexes.flatten():\n",
    "        x, y, w, h = boxes[i]\n",
    "        label = str(classes[class_ids[i]])\n",
    "        confi = str(round(confidences[i], 2))\n",
    "        color = colors[i]\n",
    "        \n",
    "        cv2.rectangle(frame, (x, y), (x + w, y + h), color, 3)\n",
    "        cv2.putText(frame, label + \" \" + confi, (x, y + 20), font, 2, (255, 255, 255), 3)\n",
    "    \n",
    "    # Display the image\n",
    "    cv2.imshow('Image', frame)\n",
    "    \n",
    "    if cv2.waitKey(1) & 0xFF == ord('q'):\n",
    "        break\n",
    "\n",
    "cap.release()\n",
    "cv2.destroyAllWindows()\n"
   ]
  },
  {
   "cell_type": "code",
   "execution_count": null,
   "id": "97d607e0-d128-4185-8385-28616d1f2afd",
   "metadata": {},
   "outputs": [],
   "source": []
  }
 ],
 "metadata": {
  "kernelspec": {
   "display_name": "Python 3 (ipykernel)",
   "language": "python",
   "name": "python3"
  },
  "language_info": {
   "codemirror_mode": {
    "name": "ipython",
    "version": 3
   },
   "file_extension": ".py",
   "mimetype": "text/x-python",
   "name": "python",
   "nbconvert_exporter": "python",
   "pygments_lexer": "ipython3",
   "version": "3.12.4"
  }
 },
 "nbformat": 4,
 "nbformat_minor": 5
}
